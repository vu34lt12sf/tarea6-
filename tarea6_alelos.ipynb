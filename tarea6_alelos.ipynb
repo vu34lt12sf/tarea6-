{
 "cells": [
  {
   "cell_type": "markdown",
   "id": "d72eb4a5",
   "metadata": {},
   "source": [
    "<img src=\"https://upload.wikimedia.org/wikipedia/commons/d/de/Logotipo_Ikiam.png\" eidth=20 heigh=50 />\n",
    "<center><h1 style=\"color:red; background-color:powderblue;\">TAREA6 - BIOINFORMÁTICA</h1></center>\n",
    "\n",
    "# DATOS DEL ESTUDIANTE\n",
    "### Nombre: \n",
    "Tatiana Shiguango Grefa\n",
    "### Semestre:\n",
    "sexto semestre \n",
    "### Carrera: \n",
    "Ingeniería en Biotecnología\n",
    "\n",
    "# EXPLICACIÓN DE LA TAREA\n",
    "Pimero se creo un modulo llamado alelos.py utilizando tres funciones que son: \n",
    "1. Creacción de la población\n",
    "Para ello se crea una función de simulación *build.population* importando datos del modulo scipy considerando como tamaño de entrada la población (N) y una variable de salida la probabilidad de tener un alelo \"A\" o \"a\"(p). \n",
    "Se crea un listado vación llamado *population[]* y para cada elemnto dentro del rango *N*. Se crea dos alelos el *A* y *a*, el calculo y la combinaciones se realiza si son > p. \n",
    "2. Cuantificación de frecuencias de alelos}\n",
    "Se crea una función compute_frecuencias para calcular las frecuencias genotipicas utilizando el argumento de entrada los datos de población (population) que contiene combinaciones alelicas  de \"AA\" \"Aa\", \"aA\" y \"aa\". \n",
    "3. Creacion de la población hijo de hasta 100 generaciones \n",
    "Se crea una función 3 reproduce_populatión que toma la población actual y produce una proxima generación. Se crea un listado vación llamado *new_generation[]* y dentro del rango N, se realiza una combinación aleatorio, creando asi los progentiores llamado *dad* *mom* . luego, secruza los cromosomas del padre y de la madre, creando asi una nueva generación. \n",
    "\n",
    "## Resultados\n",
    "Se obtuvieron 100 generaciones, y los resultados dan individuos homocigotos y heterocigotos.\n",
    "Durante las tres primeras generaciones de optiene indivudos Homogicotos dominantes (**AA**) de 3-5 individuos homogicotos recesivos (**aa**), y algunos inidivuos heterocigotos **aA** y **Aa**. \n"
   ]
  },
  {
   "cell_type": "code",
   "execution_count": null,
   "id": "91e73330",
   "metadata": {},
   "outputs": [],
   "source": []
  },
  {
   "cell_type": "code",
   "execution_count": 6,
   "id": "99037eae",
   "metadata": {},
   "outputs": [
    {
     "name": "stdout",
     "output_type": "stream",
     "text": [
      "Generación\n",
      "{'AA': 3, 'aa': 1, 'Aa': 1, 'aA': 0}\n",
      "Generación1\n",
      "{'AA': 3, 'aa': 1, 'Aa': 0, 'aA': 1}\n",
      "Generación2\n",
      "{'AA': 2, 'aa': 1, 'Aa': 2, 'aA': 0}\n",
      "Generación3\n",
      "{'AA': 3, 'aa': 1, 'Aa': 1, 'aA': 0}\n",
      "Generación4\n",
      "{'AA': 2, 'aa': 1, 'Aa': 1, 'aA': 1}\n",
      "Generación5\n",
      "{'AA': 1, 'aa': 1, 'Aa': 2, 'aA': 1}\n",
      "Generación6\n",
      "{'AA': 1, 'aa': 0, 'Aa': 1, 'aA': 3}\n",
      "Generación7\n",
      "{'AA': 3, 'aa': 0, 'Aa': 1, 'aA': 1}\n",
      "Generación8\n",
      "{'AA': 2, 'aa': 0, 'Aa': 0, 'aA': 3}\n",
      "Generación9\n",
      "{'AA': 0, 'aa': 0, 'Aa': 1, 'aA': 4}\n",
      "Generación10\n",
      "{'AA': 1, 'aa': 1, 'Aa': 2, 'aA': 1}\n"
     ]
    }
   ],
   "source": [
    "import alelos \n",
    "#Generaiónactual\n",
    "poblacion = alelos.build_population(5, 0.8)\n",
    "print(\"Generación\")\n",
    "print(alelos.compute_frequencies(poblacion))\n",
    "#Generación 1\n",
    "generacion1 = alelos.reproduce_population(poblacion)\n",
    "print(\"Generación1\")\n",
    "print(alelos.compute_frequencies(generacion1))\n",
    "#Generación2\n",
    "generacion2 = alelos.reproduce_population(generacion1)\n",
    "print(\"Generación2\")\n",
    "print(alelos.compute_frequencies(generacion2))\n",
    "#Generación3\n",
    "generacion3 = alelos.reproduce_population(generacion2)\n",
    "print(\"Generación3\")\n",
    "print(alelos.compute_frequencies(generacion3))\n",
    "#Generación4\n",
    "generacion4 = alelos.reproduce_population(generacion3)\n",
    "print(\"Generación4\")\n",
    "print(alelos.compute_frequencies(generacion4))\n",
    "#Generación5\n",
    "generacion5 = alelos.reproduce_population(generacion4)\n",
    "print(\"Generación5\")\n",
    "print(alelos.compute_frequencies(generacion5))\n",
    "\n",
    "generacion6 = alelos.reproduce_population(generacion5)\n",
    "print(\"Generación6\")\n",
    "print(alelos.compute_frequencies(generacion6))\n",
    "#Generación2\n",
    "generacion7 = alelos.reproduce_population(generacion6)\n",
    "print(\"Generación7\")\n",
    "print(alelos.compute_frequencies(generacion7))\n",
    "#Generación3\n",
    "generacion8 = alelos.reproduce_population(generacion7)\n",
    "print(\"Generación8\")\n",
    "print(alelos.compute_frequencies(generacion8))\n",
    "#Generación4\n",
    "generacion9 = alelos.reproduce_population(generacion8)\n",
    "print(\"Generación9\")\n",
    "print(alelos.compute_frequencies(generacion9))\n",
    "#Generación5\n",
    "generacion10 = alelos.reproduce_population(generacion9)\n",
    "print(\"Generación10\")\n",
    "print(alelos.compute_frequencies(generacion10))\n"
   ]
  },
  {
   "cell_type": "code",
   "execution_count": null,
   "id": "65b85bd8",
   "metadata": {},
   "outputs": [],
   "source": []
  },
  {
   "cell_type": "code",
   "execution_count": null,
   "id": "749701dc",
   "metadata": {},
   "outputs": [],
   "source": []
  },
  {
   "cell_type": "code",
   "execution_count": null,
   "id": "76ffa5be",
   "metadata": {},
   "outputs": [],
   "source": []
  }
 ],
 "metadata": {
  "kernelspec": {
   "display_name": "Python 3 (ipykernel)",
   "language": "python",
   "name": "python3"
  },
  "language_info": {
   "codemirror_mode": {
    "name": "ipython",
    "version": 3
   },
   "file_extension": ".py",
   "mimetype": "text/x-python",
   "name": "python",
   "nbconvert_exporter": "python",
   "pygments_lexer": "ipython3",
   "version": "3.9.12"
  }
 },
 "nbformat": 4,
 "nbformat_minor": 5
}
